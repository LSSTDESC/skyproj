{
 "cells": [
  {
   "cell_type": "markdown",
   "id": "d3932ae5",
   "metadata": {},
   "source": [
    "# Skyproj Survey Classes"
   ]
  },
  {
   "cell_type": "markdown",
   "id": "95fd8055",
   "metadata": {},
   "source": [
    "In this section, we introduce the `skyproj` survey classes, which have the ability to plot survey outlines and have convenient preset projections and extents set."
   ]
  },
  {
   "cell_type": "code",
   "execution_count": null,
   "id": "d0057ba5",
   "metadata": {},
   "outputs": [],
   "source": [
    "# Set interactive plots\n",
    "%matplotlib notebook\n",
    "\n",
    "# Import matplotlib\n",
    "import matplotlib.pyplot as plt\n",
    "\n",
    "# Import skyproj\n",
    "import skyproj"
   ]
  },
  {
   "cell_type": "markdown",
   "id": "031d6c14",
   "metadata": {},
   "source": [
    "There are a number of fiducial survey outlines that are included with `skyproj`:\n",
    "* Dark Energy Survey (DES)\n",
    "* Blanco Images of the Southern Sky (BLISS)\n",
    "* Magellanic SatelLites Survey (MagLiteS)\n",
    "* DECam Legacy Survey (DECaLS)\n",
    "\n",
    "Here we show each of them in turn."
   ]
  },
  {
   "cell_type": "code",
   "execution_count": null,
   "id": "e423868f",
   "metadata": {},
   "outputs": [],
   "source": [
    "# The default DES projection is a McBrydeSkymap.\n",
    "fig = plt.figure(1, figsize=(8, 6))\n",
    "ax = fig.add_subplot(111)\n",
    "m = skyproj.DESSkyproj(ax=ax)\n",
    "m.draw_des(label='DES')\n",
    "m.legend()"
   ]
  },
  {
   "cell_type": "code",
   "execution_count": null,
   "id": "49868b89",
   "metadata": {},
   "outputs": [],
   "source": [
    "# The default BLISS projection is a McBrydeSkymap with lon_0=100.\n",
    "fig = plt.figure(2, figsize=(8, 6))\n",
    "ax = fig.add_subplot(111)\n",
    "m = skyproj.BlissSkyproj(ax=ax)\n",
    "m.draw_bliss(label='BLISS')\n",
    "m.legend()"
   ]
  },
  {
   "cell_type": "code",
   "execution_count": null,
   "id": "68efe0b7",
   "metadata": {},
   "outputs": [],
   "source": [
    "# The default MagLiteS projection is an LaeaSkymap with lat_0=-90 (centered at the south pole).\n",
    "fig = plt.figure(3, figsize=(8, 6))\n",
    "ax = fig.add_subplot(111)\n",
    "m = skyproj.MaglitesSkyproj(ax=ax)\n",
    "m.draw_maglites(label='MagLiteS')\n",
    "m.legend()"
   ]
  },
  {
   "cell_type": "code",
   "execution_count": null,
   "id": "917c1198",
   "metadata": {},
   "outputs": [],
   "source": [
    "# The default DECaLS projection is a McBrydeSkymap with lon_0=105.\n",
    "fig = plt.figure(4, figsize=(8, 6))\n",
    "ax = fig.add_subplot(111)\n",
    "m = skyproj.DecalsSkyproj(ax=ax)\n",
    "m.draw_decals(label='DECaLS')\n",
    "m.legend()"
   ]
  },
  {
   "cell_type": "markdown",
   "id": "20ded16e",
   "metadata": {},
   "source": [
    "Of course, it is possible to draw more than one on a map."
   ]
  },
  {
   "cell_type": "code",
   "execution_count": null,
   "id": "1872fcee",
   "metadata": {},
   "outputs": [],
   "source": [
    "fig = plt.figure(5, figsize=(8, 6))\n",
    "ax = fig.add_subplot(111)\n",
    "m = skyproj.DecalsSkyproj(ax=ax)\n",
    "m.draw_decals(label='DECaLS')\n",
    "m.draw_des(label='DES', edgecolor='blue')\n",
    "m.legend()"
   ]
  },
  {
   "cell_type": "code",
   "execution_count": null,
   "id": "39864338",
   "metadata": {},
   "outputs": [],
   "source": []
  }
 ],
 "metadata": {
  "kernelspec": {
   "display_name": "Python 3 (ipykernel)",
   "language": "python",
   "name": "python3"
  },
  "language_info": {
   "codemirror_mode": {
    "name": "ipython",
    "version": 3
   },
   "file_extension": ".py",
   "mimetype": "text/x-python",
   "name": "python",
   "nbconvert_exporter": "python",
   "pygments_lexer": "ipython3",
   "version": "3.8.12"
  }
 },
 "nbformat": 4,
 "nbformat_minor": 5
}
