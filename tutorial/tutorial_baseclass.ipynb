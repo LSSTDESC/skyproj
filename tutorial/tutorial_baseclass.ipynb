{
 "cells": [
  {
   "cell_type": "markdown",
   "id": "ce39478b",
   "metadata": {},
   "source": [
    "# Skyproj Base Class"
   ]
  },
  {
   "cell_type": "markdown",
   "id": "c568c835",
   "metadata": {},
   "source": [
    "In this section we introduce `skyproj.Skyproj` base class and several of its features."
   ]
  },
  {
   "cell_type": "code",
   "execution_count": null,
   "id": "01decc18",
   "metadata": {},
   "outputs": [],
   "source": [
    "# Set interactive plots\n",
    "%matplotlib notebook\n",
    "\n",
    "# Import matplotlib\n",
    "import matplotlib.pyplot as plt\n",
    "\n",
    "# Import skyproj\n",
    "import skyproj"
   ]
  },
  {
   "cell_type": "markdown",
   "id": "a8d8627d",
   "metadata": {},
   "source": [
    "`skyproj` is an interface linking `matplotlib` with [PROJ](https://proj.org/) to create good looking and interactive visualizations of astronomical map data.  It has its origins in `cartosky`, which was built on `cartopy` and some of the features may be familiar to users of `cartopy`.  However, it has diverged significantly as the needs of mapping the sky are somewhat different than the needs of mapping the Earth.\n",
    "The default projection for a `cartosky.Skymap` is the [Plate carrée](https://en.wikipedia.org/wiki/Equirectangular_projection) (literally \"flat square\") or equirectangular projection.  This projection maps longitude (right ascension) and latitude (declination) directly onto a grid.  It is neither conformal (angle preserving) or equal area, so is not particularly recommended for plotting astronomical data."
   ]
  },
  {
   "cell_type": "markdown",
   "id": "ccedc1a6",
   "metadata": {},
   "source": [
    "We will start by making a default sky projection (`Skyproj`) and plotting a few points on it.  The defaults for all `skyproj.Skyproj` projections include the following:\n",
    "* Celestial orientation (right ascension increases to the left).\n",
    "* Projection is centered at 0 longitude.\n",
    "* Gridlines are on.\n",
    "* Longitude tick labels are all positive (RA from 0 to 360, rather than -180 to 180).\n",
    "* Full sky projection.\n",
    "* The cartosky plot axes will replace the current axis (via `plt.gca()`) unless a specific axis is specified.\n",
    "\n",
    "In interactive mode, the `skyproj.Skyproj` objects are zoomable, and later we will see when plotting healpix or healsparse maps they can dynamically adjust the plotting resolution."
   ]
  },
  {
   "cell_type": "code",
   "execution_count": null,
   "id": "5a9b005f",
   "metadata": {},
   "outputs": [],
   "source": [
    "# We can start with a simple Plate carée (``cyl``) projection.\n",
    "# Try zooming the figure!\n",
    "fig = plt.figure(1, figsize=(8, 6))\n",
    "ax = fig.add_subplot(111)\n",
    "m = skyproj.Skyproj(ax=ax)\n",
    "m.plot([0, 45, -30], [0, 45, -30], 'r.')"
   ]
  },
  {
   "cell_type": "markdown",
   "id": "aab0c9d5",
   "metadata": {},
   "source": [
    "That is not a particularly exciting projection, of course.  There are a number of projections that are supported by `skyproj` via `proj`.  The ones nominally supported by `skyproj` can be retrieved with the following command:"
   ]
  },
  {
   "cell_type": "code",
   "execution_count": null,
   "id": "74d39c2a",
   "metadata": {},
   "outputs": [],
   "source": [
    "skyproj.get_available_projections()"
   ]
  },
  {
   "cell_type": "markdown",
   "id": "bad1e60f",
   "metadata": {},
   "source": [
    "Any [projection supported by `proj`](https://proj.org/operations/projections/index.html) could in theory be used.  All of the projections regularly tested and known to be supported have dedicated subclasses (that are simply thin wrappers around the projection names):\n",
    "* Plate carée (`cyl`), used in `skyproj.Skyproj`.\n",
    "* McBryde-Thomas Flat Polar Quartic (`mbtfpq`), used in the `skyproj.McBrydeSkyproj`.\n",
    "* Hammer-Aitoff (`hammer`), used in the `skyproj.HammerSkyproj`.\n",
    "* Mollweide (`moll`), used in the `skyproj.MollweideSkyproj`.\n",
    "* Equal Earth (`eqearth`), used in the `skyproj.EqualEarthSkyproj`.\n",
    "* Lambert Azimuthal Equal Area (`laea`), used in the `skyproj.LaeaSkyproj`.  This is suitable for polar regions, and cannot project the full sky."
   ]
  },
  {
   "cell_type": "code",
   "execution_count": null,
   "id": "8dc7b472",
   "metadata": {},
   "outputs": [],
   "source": [
    "# Let's look at the McBryde-Thomas Flat Polar Quartic projection.\n",
    "# This is also zoomable!\n",
    "fig = plt.figure(2, figsize=(8, 6))\n",
    "fig.clf()\n",
    "ax = fig.add_subplot(111)\n",
    "m = skyproj.McBrydeSkyproj(ax=ax)\n",
    "# Could also use skyproj.Skyproj(ax=ax, projection_name='mbtfpq')\n",
    "m.plot([0, 45, -30], [0, 45, -30], 'r.')"
   ]
  },
  {
   "cell_type": "markdown",
   "id": "03eb3033",
   "metadata": {},
   "source": [
    "If you know you don't want to project the full sky, you can specify the extent via the extent keyword, in the order `[lon_min, lon_max, lat_min, lat_max]`.\n",
    "We will also look at how to draw a simple polygon.  All points are connected via geodesics (great circles)."
   ]
  },
  {
   "cell_type": "code",
   "execution_count": null,
   "id": "53d93bba",
   "metadata": {},
   "outputs": [],
   "source": [
    "fig = plt.figure(3, figsize=(8, 6))\n",
    "fig.clf()\n",
    "ax = fig.add_subplot(111)\n",
    "m = skyproj.McBrydeSkyproj(ax=ax, extent=[0, 70, 0, 70])\n",
    "m.draw_polygon([20, 50, 50, 20], [20, 20, 50, 50])\n",
    "# All paths plotted with plot in lon/lat space are plotted as geodesics\n",
    "m.plot([20, 50], [20, 50], 'm--')"
   ]
  },
  {
   "cell_type": "markdown",
   "id": "be2a7f0e",
   "metadata": {},
   "source": [
    "When only imaging a small region of the sky (as above) you can get less distortion by adjusting the projection central longitude.  Note that while the map extent can be changed on-the-fly with zooming (or `set_extent`), the projection central longitude is fixed when the `skyproj.Skyproj` is instantiated."
   ]
  },
  {
   "cell_type": "code",
   "execution_count": null,
   "id": "851817e9",
   "metadata": {},
   "outputs": [],
   "source": [
    "fig = plt.figure(4, figsize=(8, 6))\n",
    "fig.clf()\n",
    "ax = fig.add_subplot(111)\n",
    "m = skyproj.McBrydeSkyproj(ax=ax, extent=[0, 70, 0, 70], lon_0=35)\n",
    "m.draw_polygon([20, 50, 50, 20], [20, 20, 50, 50])"
   ]
  },
  {
   "cell_type": "code",
   "execution_count": null,
   "id": "2849f104",
   "metadata": {},
   "outputs": [],
   "source": []
  }
 ],
 "metadata": {
  "kernelspec": {
   "display_name": "Python 3 (ipykernel)",
   "language": "python",
   "name": "python3"
  },
  "language_info": {
   "codemirror_mode": {
    "name": "ipython",
    "version": 3
   },
   "file_extension": ".py",
   "mimetype": "text/x-python",
   "name": "python",
   "nbconvert_exporter": "python",
   "pygments_lexer": "ipython3",
   "version": "3.8.12"
  }
 },
 "nbformat": 4,
 "nbformat_minor": 5
}
