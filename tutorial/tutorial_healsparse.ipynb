{
 "cells": [
  {
   "cell_type": "markdown",
   "id": "b2df3a52",
   "metadata": {},
   "source": [
    "# Skyproj HealSparse and Healpix Mapping"
   ]
  },
  {
   "cell_type": "markdown",
   "id": "b922fe64",
   "metadata": {},
   "source": [
    "In this section, we explore plotting healsparse and healpix maps with skyproj."
   ]
  },
  {
   "cell_type": "code",
   "execution_count": null,
   "id": "578d0a30",
   "metadata": {},
   "outputs": [],
   "source": [
    "# Set interactive plots\n",
    "%matplotlib notebook\n",
    "\n",
    "# Import required code\n",
    "import matplotlib.pyplot as plt\n",
    "import numpy as np\n",
    "import healsparse as hsp\n",
    "import healpy as hp\n",
    "\n",
    "# Import skyproj\n",
    "import skyproj"
   ]
  },
  {
   "cell_type": "markdown",
   "id": "9b9c8105",
   "metadata": {},
   "source": [
    "`skyproj` was primarily developed to be able to make high resolution, performant, interactive plots of `healpix` and `healsparse` maps.  All map plotting is performed by _rasterizing_ the input map to ensure that the plotting is well-matched to the resolution of the figure.  This avoids having to plot millions of unnecessary and invisible pixels when a high resolution map is plotted over a significant fraction of the sky.  However, when a map is zoomed in (either via creating the map with a small extent, or by interactive zooming), the plotting will be rasterized such like the appropriate resolution is shown at that zoom level.\n",
    "\n",
    "The examples here are primarily focused on [HealSparse](https://readthedocs.org/projects/healsparse/) because of its significantly lower memory footprint for high resolution maps over large areas as compared to `healpy`. "
   ]
  },
  {
   "cell_type": "code",
   "execution_count": null,
   "id": "09b652f5",
   "metadata": {},
   "outputs": [],
   "source": [
    "# Let us create a high resolution healsparse map with a noise field\n",
    "hspmap = hsp.HealSparseMap.make_empty(32, 4096, np.float32)\n",
    "poly = hsp.geom.Polygon(ra=[0.0, 20.0, 20.0, 0.0], dec=[0.0, 0.0, 20.0, 20.0], value=1.0)\n",
    "pixels = poly.get_pixels(nside=hspmap.nside_sparse)\n",
    "hspmap[pixels] = np.random.normal(size=pixels.size).astype(np.float32)\n",
    "# Add in a central square of fixed value.\n",
    "poly2 = hsp.geom.Polygon(ra=[10, 10.2, 10.2, 10.0], dec=[10, 10.0, 10.2, 10.2], value=3.0)\n",
    "pixels2 = poly2.get_pixels(nside=hspmap.nside_sparse)\n",
    "hspmap[pixels2] = 3.0"
   ]
  },
  {
   "cell_type": "code",
   "execution_count": null,
   "id": "25348fde",
   "metadata": {},
   "outputs": [],
   "source": [
    "fig = plt.figure(1, figsize=(8, 6))\n",
    "fig.clf()\n",
    "ax = fig.add_subplot(111)\n",
    "m = skyproj.McBrydeSkyproj(ax=ax)\n",
    "# Note that the default is to zoom in to the range defined by the map\n",
    "_ = m.draw_hspmap(hspmap)\n",
    "m.draw_inset_colorbar()\n",
    "# And you can zoom in on this map and it will re-render at higher resolution until you hit the \n",
    "# resolution of the native map, in which case you see the nside=4096 pixels themselves."
   ]
  },
  {
   "cell_type": "code",
   "execution_count": null,
   "id": "fe25b85f",
   "metadata": {},
   "outputs": [],
   "source": [
    "# You can do the same thing with a regular healpy map (though less memory efficiently!)\n",
    "hpxmap = hspmap.generate_healpix_map()\n",
    "fig = plt.figure(2, figsize=(8, 6))\n",
    "fig.clf()\n",
    "ax = fig.add_subplot(111)\n",
    "m = skyproj.McBrydeSkyproj(ax=ax)\n",
    "# Note that the default is to zoom in to the range defined by the map\n",
    "_ = m.draw_hpxmap(hpxmap, nest=True)\n",
    "m.draw_inset_colorbar()"
   ]
  },
  {
   "cell_type": "code",
   "execution_count": null,
   "id": "ceb03a4a",
   "metadata": {},
   "outputs": [],
   "source": [
    "# We can also plot by pixel numbers and values\n",
    "# However, the re-rendering on zoom does not work in this mode, so using a healsparse map is \n",
    "# recommended.\n",
    "fig = plt.figure(3, figsize=(8, 6))\n",
    "fig.clf()\n",
    "ax = fig.add_subplot(111)\n",
    "m = skyproj.McBrydeSkyproj(ax=ax)\n",
    "# Note that the default is to zoom in to the range defined by the map\n",
    "pix = hspmap.valid_pixels\n",
    "_ = m.draw_hpxpix(hspmap.nside_sparse, pix, hspmap[pix], nest=True)\n",
    "m.draw_inset_colorbar()"
   ]
  },
  {
   "cell_type": "code",
   "execution_count": null,
   "id": "f47b6681",
   "metadata": {},
   "outputs": [],
   "source": [
    "# It's also fun to make a higher resolution healsparse map that would not be practical with healpy\n",
    "hspmap = hsp.HealSparseMap.make_empty(32, 32768, np.float32)\n",
    "poly = hsp.geom.Polygon(ra=[0.0, 20.0, 20.0, 0.0], dec=[0.0, 0.0, 20.0, 20.0], value=1.0)\n",
    "pixels = poly.get_pixels(nside=hspmap.nside_sparse)\n",
    "hspmap[pixels] = np.random.normal(size=pixels.size).astype(np.float32)\n",
    "# This is a smaller square that will be more fun to zoom into!\n",
    "poly2 = hsp.geom.Polygon(ra=[10, 10.05, 10.05, 10.0], dec=[10, 10.0, 10.05, 10.05], value=3.0)\n",
    "pixels2 = poly2.get_pixels(nside=hspmap.nside_sparse)\n",
    "hspmap[pixels2] = 3.0"
   ]
  },
  {
   "cell_type": "code",
   "execution_count": null,
   "id": "beed371f",
   "metadata": {},
   "outputs": [],
   "source": [
    "fig = plt.figure(4, figsize=(8, 6))\n",
    "fig.clf()\n",
    "ax = fig.add_subplot(111)\n",
    "m = skyproj.McBrydeSkyproj(ax=ax)\n",
    "# Note that the default is to zoom in to the range defined by the map\n",
    "_ = m.draw_hspmap(hspmap)\n",
    "# Make a red point at the center of the square so you can find it!\n",
    "m.plot([10.025], [10.025], 'r.')\n",
    "m.draw_inset_colorbar()"
   ]
  },
  {
   "cell_type": "code",
   "execution_count": null,
   "id": "9d21d48c",
   "metadata": {},
   "outputs": [],
   "source": []
  }
 ],
 "metadata": {
  "kernelspec": {
   "display_name": "Python 3 (ipykernel)",
   "language": "python",
   "name": "python3"
  },
  "language_info": {
   "codemirror_mode": {
    "name": "ipython",
    "version": 3
   },
   "file_extension": ".py",
   "mimetype": "text/x-python",
   "name": "python",
   "nbconvert_exporter": "python",
   "pygments_lexer": "ipython3",
   "version": "3.8.12"
  }
 },
 "nbformat": 4,
 "nbformat_minor": 5
}
